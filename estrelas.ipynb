{
  "nbformat": 4,
  "nbformat_minor": 0,
  "metadata": {
    "colab": {
      "provenance": [],
      "authorship_tag": "ABX9TyN82xKU1nWjwqLfyP6bGCu2",
      "include_colab_link": true
    },
    "kernelspec": {
      "name": "python3",
      "display_name": "Python 3"
    },
    "language_info": {
      "name": "python"
    }
  },
  "cells": [
    {
      "cell_type": "markdown",
      "metadata": {
        "id": "view-in-github",
        "colab_type": "text"
      },
      "source": [
        "<a href=\"https://colab.research.google.com/github/15483114/uni9-estrelas/blob/main/estrelas.ipynb\" target=\"_parent\"><img src=\"https://colab.research.google.com/assets/colab-badge.svg\" alt=\"Open In Colab\"/></a>"
      ]
    },
    {
      "cell_type": "markdown",
      "source": [
        "Dado o dataset de estrelas os objetivo deste notebook é prever o tipo de uma estrela."
      ],
      "metadata": {
        "id": "E3qvRsQZdLs4"
      }
    },
    {
      "cell_type": "code",
      "execution_count": 209,
      "metadata": {
        "id": "vOCSEybJc7bc"
      },
      "outputs": [],
      "source": [
        "import pandas as pd\n",
        "# este é o caminho do meu dataset no google drive\n",
        "df = pd.read_csv('/content/DATASET.csv', sep=';')"
      ]
    },
    {
      "cell_type": "code",
      "source": [
        "df.describe()"
      ],
      "metadata": {
        "colab": {
          "base_uri": "https://localhost:8080/",
          "height": 300
        },
        "id": "P1-0RWn7ddCa",
        "outputId": "56a26dd2-181b-4753-fb13-23586808660d"
      },
      "execution_count": 33,
      "outputs": [
        {
          "output_type": "execute_result",
          "data": {
            "text/plain": [
              "       Absolute magnitude(Mv)   Star type\n",
              "count              612.000000  612.000000\n",
              "mean                 4.027342    2.743464\n",
              "std                  7.686484    1.248714\n",
              "min                -11.920000    0.000000\n",
              "25%                  0.150000    2.000000\n",
              "50%                  3.764087    3.000000\n",
              "75%                 10.375000    3.000000\n",
              "max                 20.060000    5.000000"
            ],
            "text/html": [
              "\n",
              "  <div id=\"df-8753b11f-64fb-4a44-94b3-d4bb6be45da9\">\n",
              "    <div class=\"colab-df-container\">\n",
              "      <div>\n",
              "<style scoped>\n",
              "    .dataframe tbody tr th:only-of-type {\n",
              "        vertical-align: middle;\n",
              "    }\n",
              "\n",
              "    .dataframe tbody tr th {\n",
              "        vertical-align: top;\n",
              "    }\n",
              "\n",
              "    .dataframe thead th {\n",
              "        text-align: right;\n",
              "    }\n",
              "</style>\n",
              "<table border=\"1\" class=\"dataframe\">\n",
              "  <thead>\n",
              "    <tr style=\"text-align: right;\">\n",
              "      <th></th>\n",
              "      <th>Absolute magnitude(Mv)</th>\n",
              "      <th>Star type</th>\n",
              "    </tr>\n",
              "  </thead>\n",
              "  <tbody>\n",
              "    <tr>\n",
              "      <th>count</th>\n",
              "      <td>612.000000</td>\n",
              "      <td>612.000000</td>\n",
              "    </tr>\n",
              "    <tr>\n",
              "      <th>mean</th>\n",
              "      <td>4.027342</td>\n",
              "      <td>2.743464</td>\n",
              "    </tr>\n",
              "    <tr>\n",
              "      <th>std</th>\n",
              "      <td>7.686484</td>\n",
              "      <td>1.248714</td>\n",
              "    </tr>\n",
              "    <tr>\n",
              "      <th>min</th>\n",
              "      <td>-11.920000</td>\n",
              "      <td>0.000000</td>\n",
              "    </tr>\n",
              "    <tr>\n",
              "      <th>25%</th>\n",
              "      <td>0.150000</td>\n",
              "      <td>2.000000</td>\n",
              "    </tr>\n",
              "    <tr>\n",
              "      <th>50%</th>\n",
              "      <td>3.764087</td>\n",
              "      <td>3.000000</td>\n",
              "    </tr>\n",
              "    <tr>\n",
              "      <th>75%</th>\n",
              "      <td>10.375000</td>\n",
              "      <td>3.000000</td>\n",
              "    </tr>\n",
              "    <tr>\n",
              "      <th>max</th>\n",
              "      <td>20.060000</td>\n",
              "      <td>5.000000</td>\n",
              "    </tr>\n",
              "  </tbody>\n",
              "</table>\n",
              "</div>\n",
              "      <button class=\"colab-df-convert\" onclick=\"convertToInteractive('df-8753b11f-64fb-4a44-94b3-d4bb6be45da9')\"\n",
              "              title=\"Convert this dataframe to an interactive table.\"\n",
              "              style=\"display:none;\">\n",
              "        \n",
              "  <svg xmlns=\"http://www.w3.org/2000/svg\" height=\"24px\"viewBox=\"0 0 24 24\"\n",
              "       width=\"24px\">\n",
              "    <path d=\"M0 0h24v24H0V0z\" fill=\"none\"/>\n",
              "    <path d=\"M18.56 5.44l.94 2.06.94-2.06 2.06-.94-2.06-.94-.94-2.06-.94 2.06-2.06.94zm-11 1L8.5 8.5l.94-2.06 2.06-.94-2.06-.94L8.5 2.5l-.94 2.06-2.06.94zm10 10l.94 2.06.94-2.06 2.06-.94-2.06-.94-.94-2.06-.94 2.06-2.06.94z\"/><path d=\"M17.41 7.96l-1.37-1.37c-.4-.4-.92-.59-1.43-.59-.52 0-1.04.2-1.43.59L10.3 9.45l-7.72 7.72c-.78.78-.78 2.05 0 2.83L4 21.41c.39.39.9.59 1.41.59.51 0 1.02-.2 1.41-.59l7.78-7.78 2.81-2.81c.8-.78.8-2.07 0-2.86zM5.41 20L4 18.59l7.72-7.72 1.47 1.35L5.41 20z\"/>\n",
              "  </svg>\n",
              "      </button>\n",
              "      \n",
              "  <style>\n",
              "    .colab-df-container {\n",
              "      display:flex;\n",
              "      flex-wrap:wrap;\n",
              "      gap: 12px;\n",
              "    }\n",
              "\n",
              "    .colab-df-convert {\n",
              "      background-color: #E8F0FE;\n",
              "      border: none;\n",
              "      border-radius: 50%;\n",
              "      cursor: pointer;\n",
              "      display: none;\n",
              "      fill: #1967D2;\n",
              "      height: 32px;\n",
              "      padding: 0 0 0 0;\n",
              "      width: 32px;\n",
              "    }\n",
              "\n",
              "    .colab-df-convert:hover {\n",
              "      background-color: #E2EBFA;\n",
              "      box-shadow: 0px 1px 2px rgba(60, 64, 67, 0.3), 0px 1px 3px 1px rgba(60, 64, 67, 0.15);\n",
              "      fill: #174EA6;\n",
              "    }\n",
              "\n",
              "    [theme=dark] .colab-df-convert {\n",
              "      background-color: #3B4455;\n",
              "      fill: #D2E3FC;\n",
              "    }\n",
              "\n",
              "    [theme=dark] .colab-df-convert:hover {\n",
              "      background-color: #434B5C;\n",
              "      box-shadow: 0px 1px 3px 1px rgba(0, 0, 0, 0.15);\n",
              "      filter: drop-shadow(0px 1px 2px rgba(0, 0, 0, 0.3));\n",
              "      fill: #FFFFFF;\n",
              "    }\n",
              "  </style>\n",
              "\n",
              "      <script>\n",
              "        const buttonEl =\n",
              "          document.querySelector('#df-8753b11f-64fb-4a44-94b3-d4bb6be45da9 button.colab-df-convert');\n",
              "        buttonEl.style.display =\n",
              "          google.colab.kernel.accessAllowed ? 'block' : 'none';\n",
              "\n",
              "        async function convertToInteractive(key) {\n",
              "          const element = document.querySelector('#df-8753b11f-64fb-4a44-94b3-d4bb6be45da9');\n",
              "          const dataTable =\n",
              "            await google.colab.kernel.invokeFunction('convertToInteractive',\n",
              "                                                     [key], {});\n",
              "          if (!dataTable) return;\n",
              "\n",
              "          const docLinkHtml = 'Like what you see? Visit the ' +\n",
              "            '<a target=\"_blank\" href=https://colab.research.google.com/notebooks/data_table.ipynb>data table notebook</a>'\n",
              "            + ' to learn more about interactive tables.';\n",
              "          element.innerHTML = '';\n",
              "          dataTable['output_type'] = 'display_data';\n",
              "          await google.colab.output.renderOutput(dataTable, element);\n",
              "          const docLink = document.createElement('div');\n",
              "          docLink.innerHTML = docLinkHtml;\n",
              "          element.appendChild(docLink);\n",
              "        }\n",
              "      </script>\n",
              "    </div>\n",
              "  </div>\n",
              "  "
            ]
          },
          "metadata": {},
          "execution_count": 33
        }
      ]
    },
    {
      "cell_type": "code",
      "source": [
        "df"
      ],
      "metadata": {
        "colab": {
          "base_uri": "https://localhost:8080/",
          "height": 424
        },
        "id": "7aE0piOveYCb",
        "outputId": "91d09a42-3331-475f-a8d0-d37ccddc35db"
      },
      "execution_count": 34,
      "outputs": [
        {
          "output_type": "execute_result",
          "data": {
            "text/plain": [
              "    Temperature (K) Luminosity(L/Lo)        Radius(R/Ro)  \\\n",
              "0              7181                -                   -   \n",
              "1              5391             2.12  1.2190000000000003   \n",
              "2              7751             9.02  1.8040000000000007   \n",
              "3              2600           0.0004               0.096   \n",
              "4              6486             5.48  1.1590000000000003   \n",
              "..              ...              ...                 ...   \n",
              "607            7221             7.44  1.8170000000000008   \n",
              "608            6996             6.72  1.2730000000000004   \n",
              "609            5366             2.02               0.914   \n",
              "610            3450         174000.0              1284.0   \n",
              "611            3270         150000.0                88.0   \n",
              "\n",
              "     Absolute magnitude(Mv)  Star type    Star color Spectral Class  \n",
              "0                 -0.595616          3     Yellowish              K  \n",
              "1                  1.602394          3       Whitish              A  \n",
              "2                  1.779173          3    Orange-Red              K  \n",
              "3                 17.400000          0           Red              M  \n",
              "4                  0.321518          3       Whitish              A  \n",
              "..                      ...        ...           ...            ...  \n",
              "607                3.788960          3     Yellowish              K  \n",
              "608                5.334382          3       Whitish              A  \n",
              "609                5.170938          3  yellow-white              F  \n",
              "610              -11.280000          5           Red              M  \n",
              "611               -6.020000          4           Red              M  \n",
              "\n",
              "[612 rows x 7 columns]"
            ],
            "text/html": [
              "\n",
              "  <div id=\"df-bbe6a39a-8d02-4bcd-8fc8-e69245b5bd56\">\n",
              "    <div class=\"colab-df-container\">\n",
              "      <div>\n",
              "<style scoped>\n",
              "    .dataframe tbody tr th:only-of-type {\n",
              "        vertical-align: middle;\n",
              "    }\n",
              "\n",
              "    .dataframe tbody tr th {\n",
              "        vertical-align: top;\n",
              "    }\n",
              "\n",
              "    .dataframe thead th {\n",
              "        text-align: right;\n",
              "    }\n",
              "</style>\n",
              "<table border=\"1\" class=\"dataframe\">\n",
              "  <thead>\n",
              "    <tr style=\"text-align: right;\">\n",
              "      <th></th>\n",
              "      <th>Temperature (K)</th>\n",
              "      <th>Luminosity(L/Lo)</th>\n",
              "      <th>Radius(R/Ro)</th>\n",
              "      <th>Absolute magnitude(Mv)</th>\n",
              "      <th>Star type</th>\n",
              "      <th>Star color</th>\n",
              "      <th>Spectral Class</th>\n",
              "    </tr>\n",
              "  </thead>\n",
              "  <tbody>\n",
              "    <tr>\n",
              "      <th>0</th>\n",
              "      <td>7181</td>\n",
              "      <td>-</td>\n",
              "      <td>-</td>\n",
              "      <td>-0.595616</td>\n",
              "      <td>3</td>\n",
              "      <td>Yellowish</td>\n",
              "      <td>K</td>\n",
              "    </tr>\n",
              "    <tr>\n",
              "      <th>1</th>\n",
              "      <td>5391</td>\n",
              "      <td>2.12</td>\n",
              "      <td>1.2190000000000003</td>\n",
              "      <td>1.602394</td>\n",
              "      <td>3</td>\n",
              "      <td>Whitish</td>\n",
              "      <td>A</td>\n",
              "    </tr>\n",
              "    <tr>\n",
              "      <th>2</th>\n",
              "      <td>7751</td>\n",
              "      <td>9.02</td>\n",
              "      <td>1.8040000000000007</td>\n",
              "      <td>1.779173</td>\n",
              "      <td>3</td>\n",
              "      <td>Orange-Red</td>\n",
              "      <td>K</td>\n",
              "    </tr>\n",
              "    <tr>\n",
              "      <th>3</th>\n",
              "      <td>2600</td>\n",
              "      <td>0.0004</td>\n",
              "      <td>0.096</td>\n",
              "      <td>17.400000</td>\n",
              "      <td>0</td>\n",
              "      <td>Red</td>\n",
              "      <td>M</td>\n",
              "    </tr>\n",
              "    <tr>\n",
              "      <th>4</th>\n",
              "      <td>6486</td>\n",
              "      <td>5.48</td>\n",
              "      <td>1.1590000000000003</td>\n",
              "      <td>0.321518</td>\n",
              "      <td>3</td>\n",
              "      <td>Whitish</td>\n",
              "      <td>A</td>\n",
              "    </tr>\n",
              "    <tr>\n",
              "      <th>...</th>\n",
              "      <td>...</td>\n",
              "      <td>...</td>\n",
              "      <td>...</td>\n",
              "      <td>...</td>\n",
              "      <td>...</td>\n",
              "      <td>...</td>\n",
              "      <td>...</td>\n",
              "    </tr>\n",
              "    <tr>\n",
              "      <th>607</th>\n",
              "      <td>7221</td>\n",
              "      <td>7.44</td>\n",
              "      <td>1.8170000000000008</td>\n",
              "      <td>3.788960</td>\n",
              "      <td>3</td>\n",
              "      <td>Yellowish</td>\n",
              "      <td>K</td>\n",
              "    </tr>\n",
              "    <tr>\n",
              "      <th>608</th>\n",
              "      <td>6996</td>\n",
              "      <td>6.72</td>\n",
              "      <td>1.2730000000000004</td>\n",
              "      <td>5.334382</td>\n",
              "      <td>3</td>\n",
              "      <td>Whitish</td>\n",
              "      <td>A</td>\n",
              "    </tr>\n",
              "    <tr>\n",
              "      <th>609</th>\n",
              "      <td>5366</td>\n",
              "      <td>2.02</td>\n",
              "      <td>0.914</td>\n",
              "      <td>5.170938</td>\n",
              "      <td>3</td>\n",
              "      <td>yellow-white</td>\n",
              "      <td>F</td>\n",
              "    </tr>\n",
              "    <tr>\n",
              "      <th>610</th>\n",
              "      <td>3450</td>\n",
              "      <td>174000.0</td>\n",
              "      <td>1284.0</td>\n",
              "      <td>-11.280000</td>\n",
              "      <td>5</td>\n",
              "      <td>Red</td>\n",
              "      <td>M</td>\n",
              "    </tr>\n",
              "    <tr>\n",
              "      <th>611</th>\n",
              "      <td>3270</td>\n",
              "      <td>150000.0</td>\n",
              "      <td>88.0</td>\n",
              "      <td>-6.020000</td>\n",
              "      <td>4</td>\n",
              "      <td>Red</td>\n",
              "      <td>M</td>\n",
              "    </tr>\n",
              "  </tbody>\n",
              "</table>\n",
              "<p>612 rows × 7 columns</p>\n",
              "</div>\n",
              "      <button class=\"colab-df-convert\" onclick=\"convertToInteractive('df-bbe6a39a-8d02-4bcd-8fc8-e69245b5bd56')\"\n",
              "              title=\"Convert this dataframe to an interactive table.\"\n",
              "              style=\"display:none;\">\n",
              "        \n",
              "  <svg xmlns=\"http://www.w3.org/2000/svg\" height=\"24px\"viewBox=\"0 0 24 24\"\n",
              "       width=\"24px\">\n",
              "    <path d=\"M0 0h24v24H0V0z\" fill=\"none\"/>\n",
              "    <path d=\"M18.56 5.44l.94 2.06.94-2.06 2.06-.94-2.06-.94-.94-2.06-.94 2.06-2.06.94zm-11 1L8.5 8.5l.94-2.06 2.06-.94-2.06-.94L8.5 2.5l-.94 2.06-2.06.94zm10 10l.94 2.06.94-2.06 2.06-.94-2.06-.94-.94-2.06-.94 2.06-2.06.94z\"/><path d=\"M17.41 7.96l-1.37-1.37c-.4-.4-.92-.59-1.43-.59-.52 0-1.04.2-1.43.59L10.3 9.45l-7.72 7.72c-.78.78-.78 2.05 0 2.83L4 21.41c.39.39.9.59 1.41.59.51 0 1.02-.2 1.41-.59l7.78-7.78 2.81-2.81c.8-.78.8-2.07 0-2.86zM5.41 20L4 18.59l7.72-7.72 1.47 1.35L5.41 20z\"/>\n",
              "  </svg>\n",
              "      </button>\n",
              "      \n",
              "  <style>\n",
              "    .colab-df-container {\n",
              "      display:flex;\n",
              "      flex-wrap:wrap;\n",
              "      gap: 12px;\n",
              "    }\n",
              "\n",
              "    .colab-df-convert {\n",
              "      background-color: #E8F0FE;\n",
              "      border: none;\n",
              "      border-radius: 50%;\n",
              "      cursor: pointer;\n",
              "      display: none;\n",
              "      fill: #1967D2;\n",
              "      height: 32px;\n",
              "      padding: 0 0 0 0;\n",
              "      width: 32px;\n",
              "    }\n",
              "\n",
              "    .colab-df-convert:hover {\n",
              "      background-color: #E2EBFA;\n",
              "      box-shadow: 0px 1px 2px rgba(60, 64, 67, 0.3), 0px 1px 3px 1px rgba(60, 64, 67, 0.15);\n",
              "      fill: #174EA6;\n",
              "    }\n",
              "\n",
              "    [theme=dark] .colab-df-convert {\n",
              "      background-color: #3B4455;\n",
              "      fill: #D2E3FC;\n",
              "    }\n",
              "\n",
              "    [theme=dark] .colab-df-convert:hover {\n",
              "      background-color: #434B5C;\n",
              "      box-shadow: 0px 1px 3px 1px rgba(0, 0, 0, 0.15);\n",
              "      filter: drop-shadow(0px 1px 2px rgba(0, 0, 0, 0.3));\n",
              "      fill: #FFFFFF;\n",
              "    }\n",
              "  </style>\n",
              "\n",
              "      <script>\n",
              "        const buttonEl =\n",
              "          document.querySelector('#df-bbe6a39a-8d02-4bcd-8fc8-e69245b5bd56 button.colab-df-convert');\n",
              "        buttonEl.style.display =\n",
              "          google.colab.kernel.accessAllowed ? 'block' : 'none';\n",
              "\n",
              "        async function convertToInteractive(key) {\n",
              "          const element = document.querySelector('#df-bbe6a39a-8d02-4bcd-8fc8-e69245b5bd56');\n",
              "          const dataTable =\n",
              "            await google.colab.kernel.invokeFunction('convertToInteractive',\n",
              "                                                     [key], {});\n",
              "          if (!dataTable) return;\n",
              "\n",
              "          const docLinkHtml = 'Like what you see? Visit the ' +\n",
              "            '<a target=\"_blank\" href=https://colab.research.google.com/notebooks/data_table.ipynb>data table notebook</a>'\n",
              "            + ' to learn more about interactive tables.';\n",
              "          element.innerHTML = '';\n",
              "          dataTable['output_type'] = 'display_data';\n",
              "          await google.colab.output.renderOutput(dataTable, element);\n",
              "          const docLink = document.createElement('div');\n",
              "          docLink.innerHTML = docLinkHtml;\n",
              "          element.appendChild(docLink);\n",
              "        }\n",
              "      </script>\n",
              "    </div>\n",
              "  </div>\n",
              "  "
            ]
          },
          "metadata": {},
          "execution_count": 34
        }
      ]
    },
    {
      "cell_type": "markdown",
      "source": [
        "O dataset aparenta ter hífens no lugar de Nan values, creio que seja importante tratar isso substituindo os valores."
      ],
      "metadata": {
        "id": "l0CZAfEAjh3-"
      }
    },
    {
      "cell_type": "code",
      "source": [
        "import numpy as np\n",
        "df = df.replace('-', np.nan)"
      ],
      "metadata": {
        "id": "VRg1WmIGjpNQ"
      },
      "execution_count": 145,
      "outputs": []
    },
    {
      "cell_type": "code",
      "source": [
        "# porcentagem de dados faltantes\n",
        "df.isnull().mean().round(4)*100"
      ],
      "metadata": {
        "colab": {
          "base_uri": "https://localhost:8080/"
        },
        "id": "uyY__YtngB0f",
        "outputId": "c946f866-e8a7-42a1-c2a5-20eb7389776a"
      },
      "execution_count": 146,
      "outputs": [
        {
          "output_type": "execute_result",
          "data": {
            "text/plain": [
              "Temperature (K)            9.80\n",
              "Luminosity(L/Lo)          14.87\n",
              "Radius(R/Ro)              14.05\n",
              "Absolute magnitude(Mv)     0.00\n",
              "Star type                  0.00\n",
              "Star color                 9.80\n",
              "Spectral Class             9.80\n",
              "dtype: float64"
            ]
          },
          "metadata": {},
          "execution_count": 146
        }
      ]
    },
    {
      "cell_type": "code",
      "source": [
        "# mostrar dados faltantes\n",
        "import missingno as ms\n",
        "ms.matrix(df)"
      ],
      "metadata": {
        "colab": {
          "base_uri": "https://localhost:8080/",
          "height": 709
        },
        "id": "OMayYKtnd41P",
        "outputId": "66c97bad-2f7f-4717-bd26-629ae1c0efc2"
      },
      "execution_count": 58,
      "outputs": [
        {
          "output_type": "execute_result",
          "data": {
            "text/plain": [
              "<AxesSubplot:>"
            ]
          },
          "metadata": {},
          "execution_count": 58
        },
        {
          "output_type": "display_data",
          "data": {
            "text/plain": [
              "<Figure size 1800x720 with 2 Axes>"
            ],
            "image/png": "[encoded data removed]"
          },
          "metadata": {
            "needs_background": "light"
          }
        }
      ]
    },
    {
      "cell_type": "markdown",
      "source": [
        "Star color e Spectral Class são duas colunas com dados faltantes e categóricas cujos valores não podem ser estimados com estatísticas simples como mediana e média. Para iniciar os estudos serão dorpadas e podem ser retomadas posteriomente.\n",
        "As outras variáveis apesar de quantitativas podem induzir ao erro se substituídas por média ou mediana, apesar da quantidade de nan values ser maior de 5% para as colunas com algum dado faltante creio que qualquer tipo de tratamento possa alterar a qualidade dos dados por isso também serão dropadas."
      ],
      "metadata": {
        "id": "0jLFQXQDgP6O"
      }
    },
    {
      "cell_type": "code",
      "source": [
        "df = df.dropna()"
      ],
      "metadata": {
        "id": "WPXqUWgBgG89"
      },
      "execution_count": 147,
      "outputs": []
    },
    {
      "cell_type": "code",
      "source": [
        "# porcentagem de dados faltantes\n",
        "df.isnull().mean().round(4)*100"
      ],
      "metadata": {
        "colab": {
          "base_uri": "https://localhost:8080/"
        },
        "id": "0BQ5ssiKhnqP",
        "outputId": "95f9cd68-e04f-4060-b7f6-92b985121db0"
      },
      "execution_count": 148,
      "outputs": [
        {
          "output_type": "execute_result",
          "data": {
            "text/plain": [
              "Temperature (K)           0.0\n",
              "Luminosity(L/Lo)          0.0\n",
              "Radius(R/Ro)              0.0\n",
              "Absolute magnitude(Mv)    0.0\n",
              "Star type                 0.0\n",
              "Star color                0.0\n",
              "Spectral Class            0.0\n",
              "dtype: float64"
            ]
          },
          "metadata": {},
          "execution_count": 148
        }
      ]
    },
    {
      "cell_type": "markdown",
      "source": [
        "O que fazer com dados categóricos?"
      ],
      "metadata": {
        "id": "fMqdkSvyoOA3"
      }
    },
    {
      "cell_type": "code",
      "source": [
        "df['Star color'].value_counts()"
      ],
      "metadata": {
        "colab": {
          "base_uri": "https://localhost:8080/"
        },
        "id": "UbXeUiOAoRzj",
        "outputId": "7b43a8f0-ddbb-4512-d2fa-8ef9575d0bde"
      },
      "execution_count": 149,
      "outputs": [
        {
          "output_type": "execute_result",
          "data": {
            "text/plain": [
              "Red                   145\n",
              "Blue                   76\n",
              "Whitish                54\n",
              "yellow-white           53\n",
              "Orange-Red             46\n",
              "Yellowish              38\n",
              "yellowish              38\n",
              "Blue-white             30\n",
              "Blue White             12\n",
              "White                   9\n",
              "Yellowish White         6\n",
              "white                   4\n",
              "Blue white              3\n",
              "Orange                  2\n",
              "Pale yellow orange      1\n",
              "White-Yellow            1\n",
              "Blue                    1\n",
              "Blue white              1\n",
              "Blue-White              1\n",
              "Name: Star color, dtype: int64"
            ]
          },
          "metadata": {},
          "execution_count": 149
        }
      ]
    },
    {
      "cell_type": "markdown",
      "source": [
        "Os nomes das cores se repetem porém por terem escritas diferentes são consideradas classes diferentes. \n",
        "Além disso, a cores que remetem ao amarelo e ao laranja parecem ser da mesma classe tentei juntar mas não consegui concluir esse tramento por falta de tempo, até porque ter um objeto de estudo em uma classe não ajuda muito o modelo.\n"
      ],
      "metadata": {
        "id": "ImEjPZStorrE"
      }
    },
    {
      "cell_type": "code",
      "source": [
        "df['cores'] = df['Star color'].str.replace('-','')"
      ],
      "metadata": {
        "id": "HhhWTohao0b3"
      },
      "execution_count": 151,
      "outputs": []
    },
    {
      "cell_type": "code",
      "source": [
        "df['cores'] = df['cores'].str.replace(' ','')"
      ],
      "metadata": {
        "id": "Cv4I22ZppoGx"
      },
      "execution_count": 152,
      "outputs": []
    },
    {
      "cell_type": "code",
      "source": [
        "df['cores'] = df['cores'].str.lower()"
      ],
      "metadata": {
        "id": "fmkgedKEph0J"
      },
      "execution_count": 153,
      "outputs": []
    },
    {
      "cell_type": "code",
      "source": [
        "df['cores'].value_counts()"
      ],
      "metadata": {
        "colab": {
          "base_uri": "https://localhost:8080/"
        },
        "id": "Ka3OgMOWsd0v",
        "outputId": "3dd01dad-bb66-467d-80a3-ff74e60fe986"
      },
      "execution_count": 158,
      "outputs": [
        {
          "output_type": "execute_result",
          "data": {
            "text/plain": [
              "red                 145\n",
              "blue                 77\n",
              "yellowish            76\n",
              "whitish              54\n",
              "yellowwhite          53\n",
              "bluewhite            47\n",
              "orangered            46\n",
              "white                13\n",
              "yellowishwhite        6\n",
              "orange                2\n",
              "paleyelloworange      1\n",
              "whiteyellow           1\n",
              "Name: cores, dtype: int64"
            ]
          },
          "metadata": {},
          "execution_count": 158
        }
      ]
    },
    {
      "cell_type": "code",
      "source": [
        "df"
      ],
      "metadata": {
        "colab": {
          "base_uri": "https://localhost:8080/",
          "height": 424
        },
        "id": "eQJO6NxbinfL",
        "outputId": "490089a7-fe26-4695-d9ae-965441ce6e6e"
      },
      "execution_count": 182,
      "outputs": [
        {
          "output_type": "execute_result",
          "data": {
            "text/plain": [
              "    Temperature (K) Luminosity(L/Lo)        Radius(R/Ro)  \\\n",
              "1              5391             2.12  1.2190000000000003   \n",
              "2              7751             9.02  1.8040000000000007   \n",
              "3              2600           0.0004               0.096   \n",
              "4              6486             5.48  1.1590000000000003   \n",
              "5             12098            689.0                7.01   \n",
              "..              ...              ...                 ...   \n",
              "607            7221             7.44  1.8170000000000008   \n",
              "608            6996             6.72  1.2730000000000004   \n",
              "609            5366             2.02               0.914   \n",
              "610            3450         174000.0              1284.0   \n",
              "611            3270         150000.0                88.0   \n",
              "\n",
              "     Absolute magnitude(Mv)  Star type    Star color  Spectral Class  cores  \n",
              "1                  1.602394          3       Whitish               0      8  \n",
              "2                  1.779173          3    Orange-Red               4      3  \n",
              "3                 17.400000          0           Red               5      5  \n",
              "4                  0.321518          3       Whitish               0      8  \n",
              "5                  0.020000          3    Blue-white               0      1  \n",
              "..                      ...        ...           ...             ...    ...  \n",
              "607                3.788960          3     Yellowish               4      9  \n",
              "608                5.334382          3       Whitish               0      8  \n",
              "609                5.170938          3  yellow-white               2     11  \n",
              "610              -11.280000          5           Red               5      5  \n",
              "611               -6.020000          4           Red               5      5  \n",
              "\n",
              "[521 rows x 8 columns]"
            ],
            "text/html": [
              "\n",
              "  <div id=\"df-ecffea72-0828-41d2-a2e2-a089fd0ad55b\">\n",
              "    <div class=\"colab-df-container\">\n",
              "      <div>\n",
              "<style scoped>\n",
              "    .dataframe tbody tr th:only-of-type {\n",
              "        vertical-align: middle;\n",
              "    }\n",
              "\n",
              "    .dataframe tbody tr th {\n",
              "        vertical-align: top;\n",
              "    }\n",
              "\n",
              "    .dataframe thead th {\n",
              "        text-align: right;\n",
              "    }\n",
              "</style>\n",
              "<table border=\"1\" class=\"dataframe\">\n",
              "  <thead>\n",
              "    <tr style=\"text-align: right;\">\n",
              "      <th></th>\n",
              "      <th>Temperature (K)</th>\n",
              "      <th>Luminosity(L/Lo)</th>\n",
              "      <th>Radius(R/Ro)</th>\n",
              "      <th>Absolute magnitude(Mv)</th>\n",
              "      <th>Star type</th>\n",
              "      <th>Star color</th>\n",
              "      <th>Spectral Class</th>\n",
              "      <th>cores</th>\n",
              "    </tr>\n",
              "  </thead>\n",
              "  <tbody>\n",
              "    <tr>\n",
              "      <th>1</th>\n",
              "      <td>5391</td>\n",
              "      <td>2.12</td>\n",
              "      <td>1.2190000000000003</td>\n",
              "      <td>1.602394</td>\n",
              "      <td>3</td>\n",
              "      <td>Whitish</td>\n",
              "      <td>0</td>\n",
              "      <td>8</td>\n",
              "    </tr>\n",
              "    <tr>\n",
              "      <th>2</th>\n",
              "      <td>7751</td>\n",
              "      <td>9.02</td>\n",
              "      <td>1.8040000000000007</td>\n",
              "      <td>1.779173</td>\n",
              "      <td>3</td>\n",
              "      <td>Orange-Red</td>\n",
              "      <td>4</td>\n",
              "      <td>3</td>\n",
              "    </tr>\n",
              "    <tr>\n",
              "      <th>3</th>\n",
              "      <td>2600</td>\n",
              "      <td>0.0004</td>\n",
              "      <td>0.096</td>\n",
              "      <td>17.400000</td>\n",
              "      <td>0</td>\n",
              "      <td>Red</td>\n",
              "      <td>5</td>\n",
              "      <td>5</td>\n",
              "    </tr>\n",
              "    <tr>\n",
              "      <th>4</th>\n",
              "      <td>6486</td>\n",
              "      <td>5.48</td>\n",
              "      <td>1.1590000000000003</td>\n",
              "      <td>0.321518</td>\n",
              "      <td>3</td>\n",
              "      <td>Whitish</td>\n",
              "      <td>0</td>\n",
              "      <td>8</td>\n",
              "    </tr>\n",
              "    <tr>\n",
              "      <th>5</th>\n",
              "      <td>12098</td>\n",
              "      <td>689.0</td>\n",
              "      <td>7.01</td>\n",
              "      <td>0.020000</td>\n",
              "      <td>3</td>\n",
              "      <td>Blue-white</td>\n",
              "      <td>0</td>\n",
              "      <td>1</td>\n",
              "    </tr>\n",
              "    <tr>\n",
              "      <th>...</th>\n",
              "      <td>...</td>\n",
              "      <td>...</td>\n",
              "      <td>...</td>\n",
              "      <td>...</td>\n",
              "      <td>...</td>\n",
              "      <td>...</td>\n",
              "      <td>...</td>\n",
              "      <td>...</td>\n",
              "    </tr>\n",
              "    <tr>\n",
              "      <th>607</th>\n",
              "      <td>7221</td>\n",
              "      <td>7.44</td>\n",
              "      <td>1.8170000000000008</td>\n",
              "      <td>3.788960</td>\n",
              "      <td>3</td>\n",
              "      <td>Yellowish</td>\n",
              "      <td>4</td>\n",
              "      <td>9</td>\n",
              "    </tr>\n",
              "    <tr>\n",
              "      <th>608</th>\n",
              "      <td>6996</td>\n",
              "      <td>6.72</td>\n",
              "      <td>1.2730000000000004</td>\n",
              "      <td>5.334382</td>\n",
              "      <td>3</td>\n",
              "      <td>Whitish</td>\n",
              "      <td>0</td>\n",
              "      <td>8</td>\n",
              "    </tr>\n",
              "    <tr>\n",
              "      <th>609</th>\n",
              "      <td>5366</td>\n",
              "      <td>2.02</td>\n",
              "      <td>0.914</td>\n",
              "      <td>5.170938</td>\n",
              "      <td>3</td>\n",
              "      <td>yellow-white</td>\n",
              "      <td>2</td>\n",
              "      <td>11</td>\n",
              "    </tr>\n",
              "    <tr>\n",
              "      <th>610</th>\n",
              "      <td>3450</td>\n",
              "      <td>174000.0</td>\n",
              "      <td>1284.0</td>\n",
              "      <td>-11.280000</td>\n",
              "      <td>5</td>\n",
              "      <td>Red</td>\n",
              "      <td>5</td>\n",
              "      <td>5</td>\n",
              "    </tr>\n",
              "    <tr>\n",
              "      <th>611</th>\n",
              "      <td>3270</td>\n",
              "      <td>150000.0</td>\n",
              "      <td>88.0</td>\n",
              "      <td>-6.020000</td>\n",
              "      <td>4</td>\n",
              "      <td>Red</td>\n",
              "      <td>5</td>\n",
              "      <td>5</td>\n",
              "    </tr>\n",
              "  </tbody>\n",
              "</table>\n",
              "<p>521 rows × 8 columns</p>\n",
              "</div>\n",
              "      <button class=\"colab-df-convert\" onclick=\"convertToInteractive('df-ecffea72-0828-41d2-a2e2-a089fd0ad55b')\"\n",
              "              title=\"Convert this dataframe to an interactive table.\"\n",
              "              style=\"display:none;\">\n",
              "        \n",
              "  <svg xmlns=\"http://www.w3.org/2000/svg\" height=\"24px\"viewBox=\"0 0 24 24\"\n",
              "       width=\"24px\">\n",
              "    <path d=\"M0 0h24v24H0V0z\" fill=\"none\"/>\n",
              "    <path d=\"M18.56 5.44l.94 2.06.94-2.06 2.06-.94-2.06-.94-.94-2.06-.94 2.06-2.06.94zm-11 1L8.5 8.5l.94-2.06 2.06-.94-2.06-.94L8.5 2.5l-.94 2.06-2.06.94zm10 10l.94 2.06.94-2.06 2.06-.94-2.06-.94-.94-2.06-.94 2.06-2.06.94z\"/><path d=\"M17.41 7.96l-1.37-1.37c-.4-.4-.92-.59-1.43-.59-.52 0-1.04.2-1.43.59L10.3 9.45l-7.72 7.72c-.78.78-.78 2.05 0 2.83L4 21.41c.39.39.9.59 1.41.59.51 0 1.02-.2 1.41-.59l7.78-7.78 2.81-2.81c.8-.78.8-2.07 0-2.86zM5.41 20L4 18.59l7.72-7.72 1.47 1.35L5.41 20z\"/>\n",
              "  </svg>\n",
              "      </button>\n",
              "      \n",
              "  <style>\n",
              "    .colab-df-container {\n",
              "      display:flex;\n",
              "      flex-wrap:wrap;\n",
              "      gap: 12px;\n",
              "    }\n",
              "\n",
              "    .colab-df-convert {\n",
              "      background-color: #E8F0FE;\n",
              "      border: none;\n",
              "      border-radius: 50%;\n",
              "      cursor: pointer;\n",
              "      display: none;\n",
              "      fill: #1967D2;\n",
              "      height: 32px;\n",
              "      padding: 0 0 0 0;\n",
              "      width: 32px;\n",
              "    }\n",
              "\n",
              "    .colab-df-convert:hover {\n",
              "      background-color: #E2EBFA;\n",
              "      box-shadow: 0px 1px 2px rgba(60, 64, 67, 0.3), 0px 1px 3px 1px rgba(60, 64, 67, 0.15);\n",
              "      fill: #174EA6;\n",
              "    }\n",
              "\n",
              "    [theme=dark] .colab-df-convert {\n",
              "      background-color: #3B4455;\n",
              "      fill: #D2E3FC;\n",
              "    }\n",
              "\n",
              "    [theme=dark] .colab-df-convert:hover {\n",
              "      background-color: #434B5C;\n",
              "      box-shadow: 0px 1px 3px 1px rgba(0, 0, 0, 0.15);\n",
              "      filter: drop-shadow(0px 1px 2px rgba(0, 0, 0, 0.3));\n",
              "      fill: #FFFFFF;\n",
              "    }\n",
              "  </style>\n",
              "\n",
              "      <script>\n",
              "        const buttonEl =\n",
              "          document.querySelector('#df-ecffea72-0828-41d2-a2e2-a089fd0ad55b button.colab-df-convert');\n",
              "        buttonEl.style.display =\n",
              "          google.colab.kernel.accessAllowed ? 'block' : 'none';\n",
              "\n",
              "        async function convertToInteractive(key) {\n",
              "          const element = document.querySelector('#df-ecffea72-0828-41d2-a2e2-a089fd0ad55b');\n",
              "          const dataTable =\n",
              "            await google.colab.kernel.invokeFunction('convertToInteractive',\n",
              "                                                     [key], {});\n",
              "          if (!dataTable) return;\n",
              "\n",
              "          const docLinkHtml = 'Like what you see? Visit the ' +\n",
              "            '<a target=\"_blank\" href=https://colab.research.google.com/notebooks/data_table.ipynb>data table notebook</a>'\n",
              "            + ' to learn more about interactive tables.';\n",
              "          element.innerHTML = '';\n",
              "          dataTable['output_type'] = 'display_data';\n",
              "          await google.colab.output.renderOutput(dataTable, element);\n",
              "          const docLink = document.createElement('div');\n",
              "          docLink.innerHTML = docLinkHtml;\n",
              "          element.appendChild(docLink);\n",
              "        }\n",
              "      </script>\n",
              "    </div>\n",
              "  </div>\n",
              "  "
            ]
          },
          "metadata": {},
          "execution_count": 182
        }
      ]
    },
    {
      "cell_type": "code",
      "source": [
        "# X = df[0,1,2,3]\n",
        "y = df['Star type']"
      ],
      "metadata": {
        "id": "pApm5odwzlLB"
      },
      "execution_count": 165,
      "outputs": []
    },
    {
      "cell_type": "code",
      "source": [
        "# utilizando one hot encoder nas cores\n",
        "from sklearn.compose import ColumnTransformer\n",
        "from sklearn.preprocessing import OneHotEncoder\n",
        "ct = ColumnTransformer(transformers=[('encoder', OneHotEncoder(), [7])], remainder='passthrough')\n",
        "X = np.array(ct.fit_transform(X))"
      ],
      "metadata": {
        "id": "Lnj6JxEup_5R"
      },
      "execution_count": null,
      "outputs": []
    },
    {
      "cell_type": "markdown",
      "source": [
        "Tive problemas para rodar o OneHotEncoder no colab, vou aplicar o label encoder nas cores e no spectral class"
      ],
      "metadata": {
        "id": "x2G47IEQ5SU_"
      }
    },
    {
      "cell_type": "code",
      "source": [
        "from sklearn.preprocessing import LabelEncoder\n",
        "le = LabelEncoder()\n",
        "df['cores'] = le.fit_transform(df['cores'])\n",
        "df['Spectral Class'] = le.fit_transform(df['Spectral Class'])"
      ],
      "metadata": {
        "id": "q4AoZBoO5PS8"
      },
      "execution_count": 167,
      "outputs": []
    },
    {
      "cell_type": "code",
      "source": [
        "# transformando a classe em número\n",
        "from sklearn.preprocessing import LabelEncoder\n",
        "le = LabelEncoder()\n",
        "y = le.fit_transform(y)"
      ],
      "metadata": {
        "id": "_VTMLyBr3f15"
      },
      "execution_count": 166,
      "outputs": []
    },
    {
      "cell_type": "markdown",
      "source": [
        "# Problema de classificação\n",
        "\n",
        "Pelo Diagrama de Hertzsprung-Russell notamos clusters de estrelas com características semelhantes, como as white-dwarfs, main sequence e giants e super giants nesta seção será testado se métodos de classificação podem se assemelhar ao diagrama ou se é necessário utilizar outra abordagem, como por exemplo encontrar um modelo ideal para cada cluster e classificar as entrelas entre white-dwarf e não white dwarfs, main sequence ou não main sequence ..."
      ],
      "metadata": {
        "id": "hLIs-JyHlNDA"
      }
    },
    {
      "cell_type": "markdown",
      "source": [
        "# Random Forest\n",
        "\n",
        "O promeiro modelo de classificação a ser testado será a árvore de decisão, uma vez que  são bastante eficientes em utilizar as features mais relevantes para realizar a classificação"
      ],
      "metadata": {
        "id": "CtClbydsnq_Q"
      }
    },
    {
      "cell_type": "code",
      "source": [
        "# from sklearn.ensemble import RandomForestClassifier\n",
        "from sklearn.tree import DecisionTreeClassifier\n",
        "from sklearn.model_selection import train_test_split\n",
        "X_treino, X_teste, y_treino, y_teste = train_test_split (df[['Temperature (K)',\t'Luminosity(L/Lo)',\t'Radius(R/Ro)',\t'Absolute magnitude(Mv)', 'Spectral Class']], y, test_size=0.2)\n",
        "arv = DecisionTreeClassifier(max_depth = 3)"
      ],
      "metadata": {
        "id": "LkzssYtVmBOb"
      },
      "execution_count": 193,
      "outputs": []
    },
    {
      "cell_type": "code",
      "source": [
        "arv.fit(X_treino,y_treino)"
      ],
      "metadata": {
        "colab": {
          "base_uri": "https://localhost:8080/",
          "height": 75
        },
        "id": "vv0Oad6P7g1X",
        "outputId": "faf11570-ced0-4cee-e19b-59278341c27a"
      },
      "execution_count": 194,
      "outputs": [
        {
          "output_type": "execute_result",
          "data": {
            "text/plain": [
              "DecisionTreeClassifier(max_depth=3)"
            ],
            "text/html": [
              "<style>#sk-container-id-5 {color: black;background-color: white;}#sk-container-id-5 pre{padding: 0;}#sk-container-id-5 div.sk-toggleable {background-color: white;}#sk-container-id-5 label.sk-toggleable__label {cursor: pointer;display: block;width: 100%;margin-bottom: 0;padding: 0.3em;box-sizing: border-box;text-align: center;}#sk-container-id-5 label.sk-toggleable__label-arrow:before {content: \"▸\";float: left;margin-right: 0.25em;color: #696969;}#sk-container-id-5 label.sk-toggleable__label-arrow:hover:before {color: black;}#sk-container-id-5 div.sk-estimator:hover label.sk-toggleable__label-arrow:before {color: black;}#sk-container-id-5 div.sk-toggleable__content {max-height: 0;max-width: 0;overflow: hidden;text-align: left;background-color: #f0f8ff;}#sk-container-id-5 div.sk-toggleable__content pre {margin: 0.2em;color: black;border-radius: 0.25em;background-color: #f0f8ff;}#sk-container-id-5 input.sk-toggleable__control:checked~div.sk-toggleable__content {max-height: 200px;max-width: 100%;overflow: auto;}#sk-container-id-5 input.sk-toggleable__control:checked~label.sk-toggleable__label-arrow:before {content: \"▾\";}#sk-container-id-5 div.sk-estimator input.sk-toggleable__control:checked~label.sk-toggleable__label {background-color: #d4ebff;}#sk-container-id-5 div.sk-label input.sk-toggleable__control:checked~label.sk-toggleable__label {background-color: #d4ebff;}#sk-container-id-5 input.sk-hidden--visually {border: 0;clip: rect(1px 1px 1px 1px);clip: rect(1px, 1px, 1px, 1px);height: 1px;margin: -1px;overflow: hidden;padding: 0;position: absolute;width: 1px;}#sk-container-id-5 div.sk-estimator {font-family: monospace;background-color: #f0f8ff;border: 1px dotted black;border-radius: 0.25em;box-sizing: border-box;margin-bottom: 0.5em;}#sk-container-id-5 div.sk-estimator:hover {background-color: #d4ebff;}#sk-container-id-5 div.sk-parallel-item::after {content: \"\";width: 100%;border-bottom: 1px solid gray;flex-grow: 1;}#sk-container-id-5 div.sk-label:hover label.sk-toggleable__label {background-color: #d4ebff;}#sk-container-id-5 div.sk-serial::before {content: \"\";position: absolute;border-left: 1px solid gray;box-sizing: border-box;top: 0;bottom: 0;left: 50%;z-index: 0;}#sk-container-id-5 div.sk-serial {display: flex;flex-direction: column;align-items: center;background-color: white;padding-right: 0.2em;padding-left: 0.2em;position: relative;}#sk-container-id-5 div.sk-item {position: relative;z-index: 1;}#sk-container-id-5 div.sk-parallel {display: flex;align-items: stretch;justify-content: center;background-color: white;position: relative;}#sk-container-id-5 div.sk-item::before, #sk-container-id-5 div.sk-parallel-item::before {content: \"\";position: absolute;border-left: 1px solid gray;box-sizing: border-box;top: 0;bottom: 0;left: 50%;z-index: -1;}#sk-container-id-5 div.sk-parallel-item {display: flex;flex-direction: column;z-index: 1;position: relative;background-color: white;}#sk-container-id-5 div.sk-parallel-item:first-child::after {align-self: flex-end;width: 50%;}#sk-container-id-5 div.sk-parallel-item:last-child::after {align-self: flex-start;width: 50%;}#sk-container-id-5 div.sk-parallel-item:only-child::after {width: 0;}#sk-container-id-5 div.sk-dashed-wrapped {border: 1px dashed gray;margin: 0 0.4em 0.5em 0.4em;box-sizing: border-box;padding-bottom: 0.4em;background-color: white;}#sk-container-id-5 div.sk-label label {font-family: monospace;font-weight: bold;display: inline-block;line-height: 1.2em;}#sk-container-id-5 div.sk-label-container {text-align: center;}#sk-container-id-5 div.sk-container {/* jupyter's `normalize.less` sets `[hidden] { display: none; }` but bootstrap.min.css set `[hidden] { display: none !important; }` so we also need the `!important` here to be able to override the default hidden behavior on the sphinx rendered scikit-learn.org. See: https://github.com/scikit-learn/scikit-learn/issues/21755 */display: inline-block !important;position: relative;}#sk-container-id-5 div.sk-text-repr-fallback {display: none;}</style><div id=\"sk-container-id-5\" class=\"sk-top-container\"><div class=\"sk-text-repr-fallback\"><pre>DecisionTreeClassifier(max_depth=3)</pre><b>In a Jupyter environment, please rerun this cell to show the HTML representation or trust the notebook. <br />On GitHub, the HTML representation is unable to render, please try loading this page with nbviewer.org.</b></div><div class=\"sk-container\" hidden><div class=\"sk-item\"><div class=\"sk-estimator sk-toggleable\"><input class=\"sk-toggleable__control sk-hidden--visually\" id=\"sk-estimator-id-5\" type=\"checkbox\" checked><label for=\"sk-estimator-id-5\" class=\"sk-toggleable__label sk-toggleable__label-arrow\">DecisionTreeClassifier</label><div class=\"sk-toggleable__content\"><pre>DecisionTreeClassifier(max_depth=3)</pre></div></div></div></div></div>"
            ]
          },
          "metadata": {},
          "execution_count": 194
        }
      ]
    },
    {
      "cell_type": "code",
      "source": [
        "#acuracia\n",
        "acuracia_de_treino = arv.score(X_treino,y_treino)"
      ],
      "metadata": {
        "id": "mGDT83vz7mFL"
      },
      "execution_count": 195,
      "outputs": []
    },
    {
      "cell_type": "code",
      "source": [
        "acuracia_de_treino*100"
      ],
      "metadata": {
        "colab": {
          "base_uri": "https://localhost:8080/"
        },
        "id": "PiGt58dZ7wQw",
        "outputId": "3470ce8c-d1e9-4aa8-b623-43b49bfa8c27"
      },
      "execution_count": 196,
      "outputs": [
        {
          "output_type": "execute_result",
          "data": {
            "text/plain": [
              "91.58653846153845"
            ]
          },
          "metadata": {},
          "execution_count": 196
        }
      ]
    },
    {
      "cell_type": "code",
      "source": [
        "from sklearn.tree import export_graphviz\n",
        "from graphviz import Source\n",
        "dot_data = export_graphviz(arv, filled=True, feature_names = ['Temperature (K)',\t'Luminosity(L/Lo)',\t'Radius(R/Ro)',\t'Absolute magnitude(Mv)', 'Spectral Class'], class_names=['Red Dwarf', 'Brown Dwarf', 'White Dwarf', 'Main Sequence' , 'SuperGiants',\n",
        "'HyperGiants'])\n",
        "Source(dot_data)"
      ],
      "metadata": {
        "colab": {
          "base_uri": "https://localhost:8080/",
          "height": 598
        },
        "id": "opUXkF5M8h69",
        "outputId": "ecd51596-6a61-4565-8bd3-841fbca22958"
      },
      "execution_count": 197,
      "outputs": [
        {
          "output_type": "execute_result",
          "data": {
            "text/plain": [
              "<graphviz.files.Source at 0x7f3e7e3eaaf0>"
            ],
            "image/svg+xml": "<?xml version=\"1.0\" encoding=\"UTF-8\" standalone=\"no\"?>\n<!DOCTYPE svg PUBLIC \"-//W3C//DTD SVG 1.1//EN\"\n \"http://www.w3.org/Graphics/SVG/1.1/DTD/svg11.dtd\">\n<!-- Generated by graphviz version 2.43.0 (0)\n -->\n<!-- Title: Tree Pages: 1 -->\n<svg width=\"803pt\" height=\"433pt\"\n viewBox=\"0.00 0.00 803.00 433.00\" xmlns=\"http://www.w3.org/2000/svg\" xmlns:xlink=\"http://www.w3.org/1999/xlink\">\n<g id=\"graph0\" class=\"graph\" transform=\"scale(1 1) rotate(0) translate(4 429)\">\n<title>Tree</title>\n<polygon fill=\"white\" stroke=\"transparent\" points=\"-4,4 -4,-429 799,-429 799,4 -4,4\"/>\n<!-- 0 -->\n<g id=\"node1\" class=\"node\">\n<title>0</title>\n<polygon fill=\"#a9d4f4\" stroke=\"black\" points=\"506.5,-425 299.5,-425 299.5,-342 506.5,-342 506.5,-425\"/>\n<text text-anchor=\"middle\" x=\"403\" y=\"-409.8\" font-family=\"Helvetica,sans-Serif\" font-size=\"14.00\">Spectral Class &lt;= 4.5</text>\n<text text-anchor=\"middle\" x=\"403\" y=\"-394.8\" font-family=\"Helvetica,sans-Serif\" font-size=\"14.00\">gini = 0.7</text>\n<text text-anchor=\"middle\" x=\"403\" y=\"-379.8\" font-family=\"Helvetica,sans-Serif\" font-size=\"14.00\">samples = 416</text>\n<text text-anchor=\"middle\" x=\"403\" y=\"-364.8\" font-family=\"Helvetica,sans-Serif\" font-size=\"14.00\">value = [41, 43, 36, 208, 48, 40]</text>\n<text text-anchor=\"middle\" x=\"403\" y=\"-349.8\" font-family=\"Helvetica,sans-Serif\" font-size=\"14.00\">class = Main Sequence</text>\n</g>\n<!-- 1 -->\n<g id=\"node2\" class=\"node\">\n<title>1</title>\n<polygon fill=\"#68b4eb\" stroke=\"black\" points=\"382.5,-306 197.5,-306 197.5,-223 382.5,-223 382.5,-306\"/>\n<text text-anchor=\"middle\" x=\"290\" y=\"-290.8\" font-family=\"Helvetica,sans-Serif\" font-size=\"14.00\">Luminosity(L/Lo) &lt;= 0.071</text>\n<text text-anchor=\"middle\" x=\"290\" y=\"-275.8\" font-family=\"Helvetica,sans-Serif\" font-size=\"14.00\">gini = 0.345</text>\n<text text-anchor=\"middle\" x=\"290\" y=\"-260.8\" font-family=\"Helvetica,sans-Serif\" font-size=\"14.00\">samples = 253</text>\n<text text-anchor=\"middle\" x=\"290\" y=\"-245.8\" font-family=\"Helvetica,sans-Serif\" font-size=\"14.00\">value = [0, 0, 36, 201, 2, 14]</text>\n<text text-anchor=\"middle\" x=\"290\" y=\"-230.8\" font-family=\"Helvetica,sans-Serif\" font-size=\"14.00\">class = Main Sequence</text>\n</g>\n<!-- 0&#45;&gt;1 -->\n<g id=\"edge1\" class=\"edge\">\n<title>0&#45;&gt;1</title>\n<path fill=\"none\" stroke=\"black\" d=\"M363.8,-341.91C354.94,-332.74 345.46,-322.93 336.35,-313.49\"/>\n<polygon fill=\"black\" stroke=\"black\" points=\"338.6,-310.78 329.14,-306.02 333.57,-315.65 338.6,-310.78\"/>\n<text text-anchor=\"middle\" x=\"328.7\" y=\"-327.32\" font-family=\"Helvetica,sans-Serif\" font-size=\"14.00\">True</text>\n</g>\n<!-- 6 -->\n<g id=\"node7\" class=\"node\">\n<title>6</title>\n<polygon fill=\"#fcfafe\" stroke=\"black\" points=\"631,-306 401,-306 401,-223 631,-223 631,-306\"/>\n<text text-anchor=\"middle\" x=\"516\" y=\"-290.8\" font-family=\"Helvetica,sans-Serif\" font-size=\"14.00\">Absolute magnitude(Mv) &lt;= 15.495</text>\n<text text-anchor=\"middle\" x=\"516\" y=\"-275.8\" font-family=\"Helvetica,sans-Serif\" font-size=\"14.00\">gini = 0.76</text>\n<text text-anchor=\"middle\" x=\"516\" y=\"-260.8\" font-family=\"Helvetica,sans-Serif\" font-size=\"14.00\">samples = 163</text>\n<text text-anchor=\"middle\" x=\"516\" y=\"-245.8\" font-family=\"Helvetica,sans-Serif\" font-size=\"14.00\">value = [41, 43, 0, 7, 46, 26]</text>\n<text text-anchor=\"middle\" x=\"516\" y=\"-230.8\" font-family=\"Helvetica,sans-Serif\" font-size=\"14.00\">class = SuperGiants</text>\n</g>\n<!-- 0&#45;&gt;6 -->\n<g id=\"edge6\" class=\"edge\">\n<title>0&#45;&gt;6</title>\n<path fill=\"none\" stroke=\"black\" d=\"M442.2,-341.91C451.06,-332.74 460.54,-322.93 469.65,-313.49\"/>\n<polygon fill=\"black\" stroke=\"black\" points=\"472.43,-315.65 476.86,-306.02 467.4,-310.78 472.43,-315.65\"/>\n<text text-anchor=\"middle\" x=\"477.3\" y=\"-327.32\" font-family=\"Helvetica,sans-Serif\" font-size=\"14.00\">False</text>\n</g>\n<!-- 2 -->\n<g id=\"node3\" class=\"node\">\n<title>2</title>\n<polygon fill=\"#39e581\" stroke=\"black\" points=\"162,-179.5 0,-179.5 0,-111.5 162,-111.5 162,-179.5\"/>\n<text text-anchor=\"middle\" x=\"81\" y=\"-164.3\" font-family=\"Helvetica,sans-Serif\" font-size=\"14.00\">gini = 0.0</text>\n<text text-anchor=\"middle\" x=\"81\" y=\"-149.3\" font-family=\"Helvetica,sans-Serif\" font-size=\"14.00\">samples = 36</text>\n<text text-anchor=\"middle\" x=\"81\" y=\"-134.3\" font-family=\"Helvetica,sans-Serif\" font-size=\"14.00\">value = [0, 0, 36, 0, 0, 0]</text>\n<text text-anchor=\"middle\" x=\"81\" y=\"-119.3\" font-family=\"Helvetica,sans-Serif\" font-size=\"14.00\">class = White Dwarf</text>\n</g>\n<!-- 1&#45;&gt;2 -->\n<g id=\"edge2\" class=\"edge\">\n<title>1&#45;&gt;2</title>\n<path fill=\"none\" stroke=\"black\" d=\"M217.49,-222.91C195.31,-210.49 171.01,-196.89 149.14,-184.64\"/>\n<polygon fill=\"black\" stroke=\"black\" points=\"150.68,-181.5 140.25,-179.67 147.26,-187.61 150.68,-181.5\"/>\n</g>\n<!-- 3 -->\n<g id=\"node4\" class=\"node\">\n<title>3</title>\n<polygon fill=\"#49a5e7\" stroke=\"black\" points=\"399.5,-187 180.5,-187 180.5,-104 399.5,-104 399.5,-187\"/>\n<text text-anchor=\"middle\" x=\"290\" y=\"-171.8\" font-family=\"Helvetica,sans-Serif\" font-size=\"14.00\">Absolute magnitude(Mv) &lt;= &#45;5.15</text>\n<text text-anchor=\"middle\" x=\"290\" y=\"-156.8\" font-family=\"Helvetica,sans-Serif\" font-size=\"14.00\">gini = 0.138</text>\n<text text-anchor=\"middle\" x=\"290\" y=\"-141.8\" font-family=\"Helvetica,sans-Serif\" font-size=\"14.00\">samples = 217</text>\n<text text-anchor=\"middle\" x=\"290\" y=\"-126.8\" font-family=\"Helvetica,sans-Serif\" font-size=\"14.00\">value = [0, 0, 0, 201, 2, 14]</text>\n<text text-anchor=\"middle\" x=\"290\" y=\"-111.8\" font-family=\"Helvetica,sans-Serif\" font-size=\"14.00\">class = Main Sequence</text>\n</g>\n<!-- 1&#45;&gt;3 -->\n<g id=\"edge3\" class=\"edge\">\n<title>1&#45;&gt;3</title>\n<path fill=\"none\" stroke=\"black\" d=\"M290,-222.91C290,-214.65 290,-205.86 290,-197.3\"/>\n<polygon fill=\"black\" stroke=\"black\" points=\"293.5,-197.02 290,-187.02 286.5,-197.02 293.5,-197.02\"/>\n</g>\n<!-- 4 -->\n<g id=\"node5\" class=\"node\">\n<title>4</title>\n<polygon fill=\"#e955ab\" stroke=\"black\" points=\"197,-68 35,-68 35,0 197,0 197,-68\"/>\n<text text-anchor=\"middle\" x=\"116\" y=\"-52.8\" font-family=\"Helvetica,sans-Serif\" font-size=\"14.00\">gini = 0.219</text>\n<text text-anchor=\"middle\" x=\"116\" y=\"-37.8\" font-family=\"Helvetica,sans-Serif\" font-size=\"14.00\">samples = 16</text>\n<text text-anchor=\"middle\" x=\"116\" y=\"-22.8\" font-family=\"Helvetica,sans-Serif\" font-size=\"14.00\">value = [0, 0, 0, 0, 2, 14]</text>\n<text text-anchor=\"middle\" x=\"116\" y=\"-7.8\" font-family=\"Helvetica,sans-Serif\" font-size=\"14.00\">class = HyperGiants</text>\n</g>\n<!-- 3&#45;&gt;4 -->\n<g id=\"edge4\" class=\"edge\">\n<title>3&#45;&gt;4</title>\n<path fill=\"none\" stroke=\"black\" d=\"M225.21,-103.73C209.47,-93.82 192.7,-83.27 177.14,-73.48\"/>\n<polygon fill=\"black\" stroke=\"black\" points=\"178.97,-70.49 168.64,-68.13 175.24,-76.41 178.97,-70.49\"/>\n</g>\n<!-- 5 -->\n<g id=\"node6\" class=\"node\">\n<title>5</title>\n<polygon fill=\"#399de5\" stroke=\"black\" points=\"385,-68 215,-68 215,0 385,0 385,-68\"/>\n<text text-anchor=\"middle\" x=\"300\" y=\"-52.8\" font-family=\"Helvetica,sans-Serif\" font-size=\"14.00\">gini = 0.0</text>\n<text text-anchor=\"middle\" x=\"300\" y=\"-37.8\" font-family=\"Helvetica,sans-Serif\" font-size=\"14.00\">samples = 201</text>\n<text text-anchor=\"middle\" x=\"300\" y=\"-22.8\" font-family=\"Helvetica,sans-Serif\" font-size=\"14.00\">value = [0, 0, 0, 201, 0, 0]</text>\n<text text-anchor=\"middle\" x=\"300\" y=\"-7.8\" font-family=\"Helvetica,sans-Serif\" font-size=\"14.00\">class = Main Sequence</text>\n</g>\n<!-- 3&#45;&gt;5 -->\n<g id=\"edge5\" class=\"edge\">\n<title>3&#45;&gt;5</title>\n<path fill=\"none\" stroke=\"black\" d=\"M293.72,-103.73C294.48,-95.43 295.28,-86.67 296.05,-78.28\"/>\n<polygon fill=\"black\" stroke=\"black\" points=\"299.53,-78.58 296.96,-68.3 292.56,-77.94 299.53,-78.58\"/>\n</g>\n<!-- 7 -->\n<g id=\"node8\" class=\"node\">\n<title>7</title>\n<polygon fill=\"#faf7fe\" stroke=\"black\" points=\"614.5,-187 417.5,-187 417.5,-104 614.5,-104 614.5,-187\"/>\n<text text-anchor=\"middle\" x=\"516\" y=\"-171.8\" font-family=\"Helvetica,sans-Serif\" font-size=\"14.00\">Luminosity(L/Lo) &lt;= 50000.02</text>\n<text text-anchor=\"middle\" x=\"516\" y=\"-156.8\" font-family=\"Helvetica,sans-Serif\" font-size=\"14.00\">gini = 0.685</text>\n<text text-anchor=\"middle\" x=\"516\" y=\"-141.8\" font-family=\"Helvetica,sans-Serif\" font-size=\"14.00\">samples = 122</text>\n<text text-anchor=\"middle\" x=\"516\" y=\"-126.8\" font-family=\"Helvetica,sans-Serif\" font-size=\"14.00\">value = [0, 43, 0, 7, 46, 26]</text>\n<text text-anchor=\"middle\" x=\"516\" y=\"-111.8\" font-family=\"Helvetica,sans-Serif\" font-size=\"14.00\">class = SuperGiants</text>\n</g>\n<!-- 6&#45;&gt;7 -->\n<g id=\"edge7\" class=\"edge\">\n<title>6&#45;&gt;7</title>\n<path fill=\"none\" stroke=\"black\" d=\"M516,-222.91C516,-214.65 516,-205.86 516,-197.3\"/>\n<polygon fill=\"black\" stroke=\"black\" points=\"519.5,-197.02 516,-187.02 512.5,-197.02 519.5,-197.02\"/>\n</g>\n<!-- 10 -->\n<g id=\"node11\" class=\"node\">\n<title>10</title>\n<polygon fill=\"#e58139\" stroke=\"black\" points=\"795,-179.5 633,-179.5 633,-111.5 795,-111.5 795,-179.5\"/>\n<text text-anchor=\"middle\" x=\"714\" y=\"-164.3\" font-family=\"Helvetica,sans-Serif\" font-size=\"14.00\">gini = 0.0</text>\n<text text-anchor=\"middle\" x=\"714\" y=\"-149.3\" font-family=\"Helvetica,sans-Serif\" font-size=\"14.00\">samples = 41</text>\n<text text-anchor=\"middle\" x=\"714\" y=\"-134.3\" font-family=\"Helvetica,sans-Serif\" font-size=\"14.00\">value = [41, 0, 0, 0, 0, 0]</text>\n<text text-anchor=\"middle\" x=\"714\" y=\"-119.3\" font-family=\"Helvetica,sans-Serif\" font-size=\"14.00\">class = Red Dwarf</text>\n</g>\n<!-- 6&#45;&gt;10 -->\n<g id=\"edge10\" class=\"edge\">\n<title>6&#45;&gt;10</title>\n<path fill=\"none\" stroke=\"black\" d=\"M584.7,-222.91C605.61,-210.55 628.52,-197.01 649.17,-184.81\"/>\n<polygon fill=\"black\" stroke=\"black\" points=\"651.04,-187.77 657.87,-179.67 647.48,-181.74 651.04,-187.77\"/>\n</g>\n<!-- 8 -->\n<g id=\"node9\" class=\"node\">\n<title>8</title>\n<polygon fill=\"#9de539\" stroke=\"black\" points=\"586,-68 424,-68 424,0 586,0 586,-68\"/>\n<text text-anchor=\"middle\" x=\"505\" y=\"-52.8\" font-family=\"Helvetica,sans-Serif\" font-size=\"14.00\">gini = 0.0</text>\n<text text-anchor=\"middle\" x=\"505\" y=\"-37.8\" font-family=\"Helvetica,sans-Serif\" font-size=\"14.00\">samples = 43</text>\n<text text-anchor=\"middle\" x=\"505\" y=\"-22.8\" font-family=\"Helvetica,sans-Serif\" font-size=\"14.00\">value = [0, 43, 0, 0, 0, 0]</text>\n<text text-anchor=\"middle\" x=\"505\" y=\"-7.8\" font-family=\"Helvetica,sans-Serif\" font-size=\"14.00\">class = Brown Dwarf</text>\n</g>\n<!-- 7&#45;&gt;8 -->\n<g id=\"edge8\" class=\"edge\">\n<title>7&#45;&gt;8</title>\n<path fill=\"none\" stroke=\"black\" d=\"M511.9,-103.73C511.07,-95.43 510.19,-86.67 509.35,-78.28\"/>\n<polygon fill=\"black\" stroke=\"black\" points=\"512.83,-77.9 508.35,-68.3 505.86,-78.6 512.83,-77.9\"/>\n</g>\n<!-- 9 -->\n<g id=\"node10\" class=\"node\">\n<title>9</title>\n<polygon fill=\"#cfb4f5\" stroke=\"black\" points=\"774,-68 604,-68 604,0 774,0 774,-68\"/>\n<text text-anchor=\"middle\" x=\"689\" y=\"-52.8\" font-family=\"Helvetica,sans-Serif\" font-size=\"14.00\">gini = 0.545</text>\n<text text-anchor=\"middle\" x=\"689\" y=\"-37.8\" font-family=\"Helvetica,sans-Serif\" font-size=\"14.00\">samples = 79</text>\n<text text-anchor=\"middle\" x=\"689\" y=\"-22.8\" font-family=\"Helvetica,sans-Serif\" font-size=\"14.00\">value = [0, 0, 0, 7, 46, 26]</text>\n<text text-anchor=\"middle\" x=\"689\" y=\"-7.8\" font-family=\"Helvetica,sans-Serif\" font-size=\"14.00\">class = SuperGiants</text>\n</g>\n<!-- 7&#45;&gt;9 -->\n<g id=\"edge9\" class=\"edge\">\n<title>7&#45;&gt;9</title>\n<path fill=\"none\" stroke=\"black\" d=\"M580.42,-103.73C596.06,-93.82 612.74,-83.27 628.21,-73.48\"/>\n<polygon fill=\"black\" stroke=\"black\" points=\"630.09,-76.43 636.67,-68.13 626.34,-70.52 630.09,-76.43\"/>\n</g>\n</g>\n</svg>\n"
          },
          "metadata": {},
          "execution_count": 197
        }
      ]
    },
    {
      "cell_type": "markdown",
      "source": [
        "Apesar da variáveis categóricas terem sido apenas convertidas para números a acurácia final ficou boa."
      ],
      "metadata": {
        "id": "YbUDej87-VUg"
      }
    },
    {
      "cell_type": "markdown",
      "source": [
        "# Random Forest\n",
        "\n",
        "Como a árvore performou bem, é interessante testar várias árvores"
      ],
      "metadata": {
        "id": "VBVGWS8tESfa"
      }
    },
    {
      "cell_type": "code",
      "source": [
        "from sklearn.ensemble import RandomForestClassifier\n",
        "classifier = RandomForestClassifier(n_estimators = 10, criterion = 'entropy', random_state = 0)\n",
        "classifier.fit(X_treino, y_treino)"
      ],
      "metadata": {
        "colab": {
          "base_uri": "https://localhost:8080/",
          "height": 75
        },
        "id": "I9k1txJJEUzN",
        "outputId": "83480649-9942-4ba3-bc96-102f3a03d490"
      },
      "execution_count": 198,
      "outputs": [
        {
          "output_type": "execute_result",
          "data": {
            "text/plain": [
              "RandomForestClassifier(criterion='entropy', n_estimators=10, random_state=0)"
            ],
            "text/html": [
              "<style>#sk-container-id-6 {color: black;background-color: white;}#sk-container-id-6 pre{padding: 0;}#sk-container-id-6 div.sk-toggleable {background-color: white;}#sk-container-id-6 label.sk-toggleable__label {cursor: pointer;display: block;width: 100%;margin-bottom: 0;padding: 0.3em;box-sizing: border-box;text-align: center;}#sk-container-id-6 label.sk-toggleable__label-arrow:before {content: \"▸\";float: left;margin-right: 0.25em;color: #696969;}#sk-container-id-6 label.sk-toggleable__label-arrow:hover:before {color: black;}#sk-container-id-6 div.sk-estimator:hover label.sk-toggleable__label-arrow:before {color: black;}#sk-container-id-6 div.sk-toggleable__content {max-height: 0;max-width: 0;overflow: hidden;text-align: left;background-color: #f0f8ff;}#sk-container-id-6 div.sk-toggleable__content pre {margin: 0.2em;color: black;border-radius: 0.25em;background-color: #f0f8ff;}#sk-container-id-6 input.sk-toggleable__control:checked~div.sk-toggleable__content {max-height: 200px;max-width: 100%;overflow: auto;}#sk-container-id-6 input.sk-toggleable__control:checked~label.sk-toggleable__label-arrow:before {content: \"▾\";}#sk-container-id-6 div.sk-estimator input.sk-toggleable__control:checked~label.sk-toggleable__label {background-color: #d4ebff;}#sk-container-id-6 div.sk-label input.sk-toggleable__control:checked~label.sk-toggleable__label {background-color: #d4ebff;}#sk-container-id-6 input.sk-hidden--visually {border: 0;clip: rect(1px 1px 1px 1px);clip: rect(1px, 1px, 1px, 1px);height: 1px;margin: -1px;overflow: hidden;padding: 0;position: absolute;width: 1px;}#sk-container-id-6 div.sk-estimator {font-family: monospace;background-color: #f0f8ff;border: 1px dotted black;border-radius: 0.25em;box-sizing: border-box;margin-bottom: 0.5em;}#sk-container-id-6 div.sk-estimator:hover {background-color: #d4ebff;}#sk-container-id-6 div.sk-parallel-item::after {content: \"\";width: 100%;border-bottom: 1px solid gray;flex-grow: 1;}#sk-container-id-6 div.sk-label:hover label.sk-toggleable__label {background-color: #d4ebff;}#sk-container-id-6 div.sk-serial::before {content: \"\";position: absolute;border-left: 1px solid gray;box-sizing: border-box;top: 0;bottom: 0;left: 50%;z-index: 0;}#sk-container-id-6 div.sk-serial {display: flex;flex-direction: column;align-items: center;background-color: white;padding-right: 0.2em;padding-left: 0.2em;position: relative;}#sk-container-id-6 div.sk-item {position: relative;z-index: 1;}#sk-container-id-6 div.sk-parallel {display: flex;align-items: stretch;justify-content: center;background-color: white;position: relative;}#sk-container-id-6 div.sk-item::before, #sk-container-id-6 div.sk-parallel-item::before {content: \"\";position: absolute;border-left: 1px solid gray;box-sizing: border-box;top: 0;bottom: 0;left: 50%;z-index: -1;}#sk-container-id-6 div.sk-parallel-item {display: flex;flex-direction: column;z-index: 1;position: relative;background-color: white;}#sk-container-id-6 div.sk-parallel-item:first-child::after {align-self: flex-end;width: 50%;}#sk-container-id-6 div.sk-parallel-item:last-child::after {align-self: flex-start;width: 50%;}#sk-container-id-6 div.sk-parallel-item:only-child::after {width: 0;}#sk-container-id-6 div.sk-dashed-wrapped {border: 1px dashed gray;margin: 0 0.4em 0.5em 0.4em;box-sizing: border-box;padding-bottom: 0.4em;background-color: white;}#sk-container-id-6 div.sk-label label {font-family: monospace;font-weight: bold;display: inline-block;line-height: 1.2em;}#sk-container-id-6 div.sk-label-container {text-align: center;}#sk-container-id-6 div.sk-container {/* jupyter's `normalize.less` sets `[hidden] { display: none; }` but bootstrap.min.css set `[hidden] { display: none !important; }` so we also need the `!important` here to be able to override the default hidden behavior on the sphinx rendered scikit-learn.org. See: https://github.com/scikit-learn/scikit-learn/issues/21755 */display: inline-block !important;position: relative;}#sk-container-id-6 div.sk-text-repr-fallback {display: none;}</style><div id=\"sk-container-id-6\" class=\"sk-top-container\"><div class=\"sk-text-repr-fallback\"><pre>RandomForestClassifier(criterion=&#x27;entropy&#x27;, n_estimators=10, random_state=0)</pre><b>In a Jupyter environment, please rerun this cell to show the HTML representation or trust the notebook. <br />On GitHub, the HTML representation is unable to render, please try loading this page with nbviewer.org.</b></div><div class=\"sk-container\" hidden><div class=\"sk-item\"><div class=\"sk-estimator sk-toggleable\"><input class=\"sk-toggleable__control sk-hidden--visually\" id=\"sk-estimator-id-6\" type=\"checkbox\" checked><label for=\"sk-estimator-id-6\" class=\"sk-toggleable__label sk-toggleable__label-arrow\">RandomForestClassifier</label><div class=\"sk-toggleable__content\"><pre>RandomForestClassifier(criterion=&#x27;entropy&#x27;, n_estimators=10, random_state=0)</pre></div></div></div></div></div>"
            ]
          },
          "metadata": {},
          "execution_count": 198
        }
      ]
    },
    {
      "cell_type": "code",
      "source": [
        "y_pred = classifier.predict(X_teste)"
      ],
      "metadata": {
        "id": "htDT5o_hEizL"
      },
      "execution_count": 200,
      "outputs": []
    },
    {
      "cell_type": "code",
      "source": [
        "from sklearn.metrics import confusion_matrix, accuracy_score\n",
        "cm = confusion_matrix(y_teste, y_pred)\n",
        "print(cm)\n",
        "accuracy_score(y_teste, y_pred)"
      ],
      "metadata": {
        "colab": {
          "base_uri": "https://localhost:8080/"
        },
        "id": "oTt3OpsdEoyq",
        "outputId": "f3c9397e-8416-4bad-f6cd-e1d2b26b7911"
      },
      "execution_count": 202,
      "outputs": [
        {
          "output_type": "stream",
          "name": "stdout",
          "text": [
            "[[11  0  0  0  0  0]\n",
            " [ 0 11  0  0  0  0]\n",
            " [ 0  0 14  0  0  0]\n",
            " [ 0  0  0 51  0  0]\n",
            " [ 0  0  0  0  7  0]\n",
            " [ 0  0  0  0  0 11]]\n"
          ]
        },
        {
          "output_type": "execute_result",
          "data": {
            "text/plain": [
              "1.0"
            ]
          },
          "metadata": {},
          "execution_count": 202
        }
      ]
    },
    {
      "cell_type": "markdown",
      "source": [
        "O resultado do random forest é bastante esquisito, eu acho que não dá pra confiar num modelo com 100% de acuácia, é provável que esteja com overfitting."
      ],
      "metadata": {
        "id": "SeWHPVt-EwAl"
      }
    },
    {
      "cell_type": "markdown",
      "source": [
        "# Logistic Regresion\n",
        "\n",
        "Um modelo interessante para testar é a regressão logística, por causa da distribuição do main sequence no diagrama"
      ],
      "metadata": {
        "id": "ldXdc0nXFf-N"
      }
    },
    {
      "cell_type": "code",
      "source": [
        "import sklearn.linear_model as lm\n",
        "\n",
        "rlog = lm.LogisticRegression()\n",
        "rlog.fit(X_treino,y_treino)\n",
        "acc_treino = rlog.score(X_treino, y_treino)\n",
        "acc_treino*100"
      ],
      "metadata": {
        "colab": {
          "base_uri": "https://localhost:8080/"
        },
        "id": "ut4nE5ypF0-V",
        "outputId": "e8d9fecc-813c-4f6b-dd73-a3aff225a2ca"
      },
      "execution_count": 203,
      "outputs": [
        {
          "output_type": "stream",
          "name": "stderr",
          "text": [
            "/usr/local/lib/python3.8/dist-packages/sklearn/linear_model/_logistic.py:458: ConvergenceWarning: lbfgs failed to converge (status=1):\n",
            "STOP: TOTAL NO. of ITERATIONS REACHED LIMIT.\n",
            "\n",
            "Increase the number of iterations (max_iter) or scale the data as shown in:\n",
            "    https://scikit-learn.org/stable/modules/preprocessing.html\n",
            "Please also refer to the documentation for alternative solver options:\n",
            "    https://scikit-learn.org/stable/modules/linear_model.html#logistic-regression\n",
            "  n_iter_i = _check_optimize_result(\n"
          ]
        },
        {
          "output_type": "execute_result",
          "data": {
            "text/plain": [
              "69.95192307692307"
            ]
          },
          "metadata": {},
          "execution_count": 203
        }
      ]
    },
    {
      "cell_type": "code",
      "source": [
        "prev_teste = rlog.predict(X_teste)"
      ],
      "metadata": {
        "id": "z590mIqsGTbJ"
      },
      "execution_count": 204,
      "outputs": []
    },
    {
      "cell_type": "code",
      "source": [
        "from sklearn.metrics import accuracy_score\n",
        "\n",
        "accuracy_score(y_teste, prev_teste)*100"
      ],
      "metadata": {
        "colab": {
          "base_uri": "https://localhost:8080/"
        },
        "id": "te4JjsUBGXNN",
        "outputId": "fe9413f6-980f-4ece-ccc7-8a1da3c6c878"
      },
      "execution_count": 205,
      "outputs": [
        {
          "output_type": "execute_result",
          "data": {
            "text/plain": [
              "65.71428571428571"
            ]
          },
          "metadata": {},
          "execution_count": 205
        }
      ]
    },
    {
      "cell_type": "code",
      "source": [
        "from sklearn.metrics import confusion_matrix\n",
        "import seaborn as sns \n",
        "cm = confusion_matrix(y_teste, prev_teste)\n",
        "sns.heatmap(cm,annot=True)\n",
        "cm"
      ],
      "metadata": {
        "colab": {
          "base_uri": "https://localhost:8080/",
          "height": 372
        },
        "id": "ICNithBZGaV5",
        "outputId": "2ee1d152-0aa3-428b-d4fd-2e1ba5776700"
      },
      "execution_count": 206,
      "outputs": [
        {
          "output_type": "execute_result",
          "data": {
            "text/plain": [
              "array([[ 0,  0,  0, 11,  0,  0],\n",
              "       [ 0,  0,  0, 11,  0,  0],\n",
              "       [ 0,  0,  0, 14,  0,  0],\n",
              "       [ 0,  0,  0, 51,  0,  0],\n",
              "       [ 0,  0,  0,  0,  7,  0],\n",
              "       [ 0,  0,  0,  0,  0, 11]])"
            ]
          },
          "metadata": {},
          "execution_count": 206
        },
        {
          "output_type": "display_data",
          "data": {
            "text/plain": [
              "<Figure size 432x288 with 2 Axes>"
            ],
            "image/png": "[encoded data removed]"
          },
          "metadata": {
            "needs_background": "light"
          }
        }
      ]
    },
    {
      "cell_type": "markdown",
      "source": [
        "O resultado não ficou muito bom, vou testar apenas com estrelas do main sequence"
      ],
      "metadata": {
        "id": "IaKGDjw-Gd38"
      }
    },
    {
      "cell_type": "code",
      "source": [
        "main = df"
      ],
      "metadata": {
        "id": "DTiHVIQeGxj_"
      },
      "execution_count": 215,
      "outputs": []
    },
    {
      "cell_type": "code",
      "source": [
        "array=[]\n",
        "for x in main['Star type']:\n",
        "  variable = 1 if x==3 else 0\n",
        "  array.append(variable)\n",
        "\n",
        "main['main'] = array"
      ],
      "metadata": {
        "id": "dp05FVJ9IQUS"
      },
      "execution_count": 216,
      "outputs": []
    },
    {
      "cell_type": "code",
      "source": [
        "main"
      ],
      "metadata": {
        "colab": {
          "base_uri": "https://localhost:8080/",
          "height": 424
        },
        "id": "PipeYReQHCVC",
        "outputId": "14456439-43b8-4e0c-ecf2-395c35d8d45b"
      },
      "execution_count": 217,
      "outputs": [
        {
          "output_type": "execute_result",
          "data": {
            "text/plain": [
              "    Temperature (K) Luminosity(L/Lo)        Radius(R/Ro)  \\\n",
              "1              5391             2.12  1.2190000000000003   \n",
              "2              7751             9.02  1.8040000000000007   \n",
              "3              2600           0.0004               0.096   \n",
              "4              6486             5.48  1.1590000000000003   \n",
              "5             12098            689.0                7.01   \n",
              "..              ...              ...                 ...   \n",
              "607            7221             7.44  1.8170000000000008   \n",
              "608            6996             6.72  1.2730000000000004   \n",
              "609            5366             2.02               0.914   \n",
              "610            3450         174000.0              1284.0   \n",
              "611            3270         150000.0                88.0   \n",
              "\n",
              "     Absolute magnitude(Mv)  Star type    Star color  Spectral Class  cores  \\\n",
              "1                  1.602394          3       Whitish               0      8   \n",
              "2                  1.779173          3    Orange-Red               4      3   \n",
              "3                 17.400000          0           Red               5      5   \n",
              "4                  0.321518          3       Whitish               0      8   \n",
              "5                  0.020000          3    Blue-white               0      1   \n",
              "..                      ...        ...           ...             ...    ...   \n",
              "607                3.788960          3     Yellowish               4      9   \n",
              "608                5.334382          3       Whitish               0      8   \n",
              "609                5.170938          3  yellow-white               2     11   \n",
              "610              -11.280000          5           Red               5      5   \n",
              "611               -6.020000          4           Red               5      5   \n",
              "\n",
              "     main  \n",
              "1       1  \n",
              "2       1  \n",
              "3       0  \n",
              "4       1  \n",
              "5       1  \n",
              "..    ...  \n",
              "607     1  \n",
              "608     1  \n",
              "609     1  \n",
              "610     0  \n",
              "611     0  \n",
              "\n",
              "[521 rows x 9 columns]"
            ],
            "text/html": [
              "\n",
              "  <div id=\"df-8199613f-a8f2-4263-bfb8-d72cd4ee33f9\">\n",
              "    <div class=\"colab-df-container\">\n",
              "      <div>\n",
              "<style scoped>\n",
              "    .dataframe tbody tr th:only-of-type {\n",
              "        vertical-align: middle;\n",
              "    }\n",
              "\n",
              "    .dataframe tbody tr th {\n",
              "        vertical-align: top;\n",
              "    }\n",
              "\n",
              "    .dataframe thead th {\n",
              "        text-align: right;\n",
              "    }\n",
              "</style>\n",
              "<table border=\"1\" class=\"dataframe\">\n",
              "  <thead>\n",
              "    <tr style=\"text-align: right;\">\n",
              "      <th></th>\n",
              "      <th>Temperature (K)</th>\n",
              "      <th>Luminosity(L/Lo)</th>\n",
              "      <th>Radius(R/Ro)</th>\n",
              "      <th>Absolute magnitude(Mv)</th>\n",
              "      <th>Star type</th>\n",
              "      <th>Star color</th>\n",
              "      <th>Spectral Class</th>\n",
              "      <th>cores</th>\n",
              "      <th>main</th>\n",
              "    </tr>\n",
              "  </thead>\n",
              "  <tbody>\n",
              "    <tr>\n",
              "      <th>1</th>\n",
              "      <td>5391</td>\n",
              "      <td>2.12</td>\n",
              "      <td>1.2190000000000003</td>\n",
              "      <td>1.602394</td>\n",
              "      <td>3</td>\n",
              "      <td>Whitish</td>\n",
              "      <td>0</td>\n",
              "      <td>8</td>\n",
              "      <td>1</td>\n",
              "    </tr>\n",
              "    <tr>\n",
              "      <th>2</th>\n",
              "      <td>7751</td>\n",
              "      <td>9.02</td>\n",
              "      <td>1.8040000000000007</td>\n",
              "      <td>1.779173</td>\n",
              "      <td>3</td>\n",
              "      <td>Orange-Red</td>\n",
              "      <td>4</td>\n",
              "      <td>3</td>\n",
              "      <td>1</td>\n",
              "    </tr>\n",
              "    <tr>\n",
              "      <th>3</th>\n",
              "      <td>2600</td>\n",
              "      <td>0.0004</td>\n",
              "      <td>0.096</td>\n",
              "      <td>17.400000</td>\n",
              "      <td>0</td>\n",
              "      <td>Red</td>\n",
              "      <td>5</td>\n",
              "      <td>5</td>\n",
              "      <td>0</td>\n",
              "    </tr>\n",
              "    <tr>\n",
              "      <th>4</th>\n",
              "      <td>6486</td>\n",
              "      <td>5.48</td>\n",
              "      <td>1.1590000000000003</td>\n",
              "      <td>0.321518</td>\n",
              "      <td>3</td>\n",
              "      <td>Whitish</td>\n",
              "      <td>0</td>\n",
              "      <td>8</td>\n",
              "      <td>1</td>\n",
              "    </tr>\n",
              "    <tr>\n",
              "      <th>5</th>\n",
              "      <td>12098</td>\n",
              "      <td>689.0</td>\n",
              "      <td>7.01</td>\n",
              "      <td>0.020000</td>\n",
              "      <td>3</td>\n",
              "      <td>Blue-white</td>\n",
              "      <td>0</td>\n",
              "      <td>1</td>\n",
              "      <td>1</td>\n",
              "    </tr>\n",
              "    <tr>\n",
              "      <th>...</th>\n",
              "      <td>...</td>\n",
              "      <td>...</td>\n",
              "      <td>...</td>\n",
              "      <td>...</td>\n",
              "      <td>...</td>\n",
              "      <td>...</td>\n",
              "      <td>...</td>\n",
              "      <td>...</td>\n",
              "      <td>...</td>\n",
              "    </tr>\n",
              "    <tr>\n",
              "      <th>607</th>\n",
              "      <td>7221</td>\n",
              "      <td>7.44</td>\n",
              "      <td>1.8170000000000008</td>\n",
              "      <td>3.788960</td>\n",
              "      <td>3</td>\n",
              "      <td>Yellowish</td>\n",
              "      <td>4</td>\n",
              "      <td>9</td>\n",
              "      <td>1</td>\n",
              "    </tr>\n",
              "    <tr>\n",
              "      <th>608</th>\n",
              "      <td>6996</td>\n",
              "      <td>6.72</td>\n",
              "      <td>1.2730000000000004</td>\n",
              "      <td>5.334382</td>\n",
              "      <td>3</td>\n",
              "      <td>Whitish</td>\n",
              "      <td>0</td>\n",
              "      <td>8</td>\n",
              "      <td>1</td>\n",
              "    </tr>\n",
              "    <tr>\n",
              "      <th>609</th>\n",
              "      <td>5366</td>\n",
              "      <td>2.02</td>\n",
              "      <td>0.914</td>\n",
              "      <td>5.170938</td>\n",
              "      <td>3</td>\n",
              "      <td>yellow-white</td>\n",
              "      <td>2</td>\n",
              "      <td>11</td>\n",
              "      <td>1</td>\n",
              "    </tr>\n",
              "    <tr>\n",
              "      <th>610</th>\n",
              "      <td>3450</td>\n",
              "      <td>174000.0</td>\n",
              "      <td>1284.0</td>\n",
              "      <td>-11.280000</td>\n",
              "      <td>5</td>\n",
              "      <td>Red</td>\n",
              "      <td>5</td>\n",
              "      <td>5</td>\n",
              "      <td>0</td>\n",
              "    </tr>\n",
              "    <tr>\n",
              "      <th>611</th>\n",
              "      <td>3270</td>\n",
              "      <td>150000.0</td>\n",
              "      <td>88.0</td>\n",
              "      <td>-6.020000</td>\n",
              "      <td>4</td>\n",
              "      <td>Red</td>\n",
              "      <td>5</td>\n",
              "      <td>5</td>\n",
              "      <td>0</td>\n",
              "    </tr>\n",
              "  </tbody>\n",
              "</table>\n",
              "<p>521 rows × 9 columns</p>\n",
              "</div>\n",
              "      <button class=\"colab-df-convert\" onclick=\"convertToInteractive('df-8199613f-a8f2-4263-bfb8-d72cd4ee33f9')\"\n",
              "              title=\"Convert this dataframe to an interactive table.\"\n",
              "              style=\"display:none;\">\n",
              "        \n",
              "  <svg xmlns=\"http://www.w3.org/2000/svg\" height=\"24px\"viewBox=\"0 0 24 24\"\n",
              "       width=\"24px\">\n",
              "    <path d=\"M0 0h24v24H0V0z\" fill=\"none\"/>\n",
              "    <path d=\"M18.56 5.44l.94 2.06.94-2.06 2.06-.94-2.06-.94-.94-2.06-.94 2.06-2.06.94zm-11 1L8.5 8.5l.94-2.06 2.06-.94-2.06-.94L8.5 2.5l-.94 2.06-2.06.94zm10 10l.94 2.06.94-2.06 2.06-.94-2.06-.94-.94-2.06-.94 2.06-2.06.94z\"/><path d=\"M17.41 7.96l-1.37-1.37c-.4-.4-.92-.59-1.43-.59-.52 0-1.04.2-1.43.59L10.3 9.45l-7.72 7.72c-.78.78-.78 2.05 0 2.83L4 21.41c.39.39.9.59 1.41.59.51 0 1.02-.2 1.41-.59l7.78-7.78 2.81-2.81c.8-.78.8-2.07 0-2.86zM5.41 20L4 18.59l7.72-7.72 1.47 1.35L5.41 20z\"/>\n",
              "  </svg>\n",
              "      </button>\n",
              "      \n",
              "  <style>\n",
              "    .colab-df-container {\n",
              "      display:flex;\n",
              "      flex-wrap:wrap;\n",
              "      gap: 12px;\n",
              "    }\n",
              "\n",
              "    .colab-df-convert {\n",
              "      background-color: #E8F0FE;\n",
              "      border: none;\n",
              "      border-radius: 50%;\n",
              "      cursor: pointer;\n",
              "      display: none;\n",
              "      fill: #1967D2;\n",
              "      height: 32px;\n",
              "      padding: 0 0 0 0;\n",
              "      width: 32px;\n",
              "    }\n",
              "\n",
              "    .colab-df-convert:hover {\n",
              "      background-color: #E2EBFA;\n",
              "      box-shadow: 0px 1px 2px rgba(60, 64, 67, 0.3), 0px 1px 3px 1px rgba(60, 64, 67, 0.15);\n",
              "      fill: #174EA6;\n",
              "    }\n",
              "\n",
              "    [theme=dark] .colab-df-convert {\n",
              "      background-color: #3B4455;\n",
              "      fill: #D2E3FC;\n",
              "    }\n",
              "\n",
              "    [theme=dark] .colab-df-convert:hover {\n",
              "      background-color: #434B5C;\n",
              "      box-shadow: 0px 1px 3px 1px rgba(0, 0, 0, 0.15);\n",
              "      filter: drop-shadow(0px 1px 2px rgba(0, 0, 0, 0.3));\n",
              "      fill: #FFFFFF;\n",
              "    }\n",
              "  </style>\n",
              "\n",
              "      <script>\n",
              "        const buttonEl =\n",
              "          document.querySelector('#df-8199613f-a8f2-4263-bfb8-d72cd4ee33f9 button.colab-df-convert');\n",
              "        buttonEl.style.display =\n",
              "          google.colab.kernel.accessAllowed ? 'block' : 'none';\n",
              "\n",
              "        async function convertToInteractive(key) {\n",
              "          const element = document.querySelector('#df-8199613f-a8f2-4263-bfb8-d72cd4ee33f9');\n",
              "          const dataTable =\n",
              "            await google.colab.kernel.invokeFunction('convertToInteractive',\n",
              "                                                     [key], {});\n",
              "          if (!dataTable) return;\n",
              "\n",
              "          const docLinkHtml = 'Like what you see? Visit the ' +\n",
              "            '<a target=\"_blank\" href=https://colab.research.google.com/notebooks/data_table.ipynb>data table notebook</a>'\n",
              "            + ' to learn more about interactive tables.';\n",
              "          element.innerHTML = '';\n",
              "          dataTable['output_type'] = 'display_data';\n",
              "          await google.colab.output.renderOutput(dataTable, element);\n",
              "          const docLink = document.createElement('div');\n",
              "          docLink.innerHTML = docLinkHtml;\n",
              "          element.appendChild(docLink);\n",
              "        }\n",
              "      </script>\n",
              "    </div>\n",
              "  </div>\n",
              "  "
            ]
          },
          "metadata": {},
          "execution_count": 217
        }
      ]
    },
    {
      "cell_type": "code",
      "source": [
        "from sklearn.model_selection import train_test_split\n",
        "X_treino, X_teste, y_treino, y_teste = train_test_split (main[['Temperature (K)',\t'Luminosity(L/Lo)',\t'Radius(R/Ro)',\t'Absolute magnitude(Mv)', 'Spectral Class']], main['main'], test_size=0.2)\n"
      ],
      "metadata": {
        "id": "7tT6wQCgGdPh"
      },
      "execution_count": 218,
      "outputs": []
    },
    {
      "cell_type": "code",
      "source": [
        "import sklearn.linear_model as lm\n",
        "\n",
        "rlog = lm.LogisticRegression()\n",
        "rlog.fit(X_treino,y_treino)\n",
        "acc_treino = rlog.score(X_treino, y_treino)\n",
        "acc_treino*100"
      ],
      "metadata": {
        "colab": {
          "base_uri": "https://localhost:8080/"
        },
        "id": "1myOmrvNInLO",
        "outputId": "eddeaeb9-43a0-451d-eeac-feb543310925"
      },
      "execution_count": 219,
      "outputs": [
        {
          "output_type": "stream",
          "name": "stderr",
          "text": [
            "/usr/local/lib/python3.8/dist-packages/sklearn/linear_model/_logistic.py:458: ConvergenceWarning: lbfgs failed to converge (status=1):\n",
            "STOP: TOTAL NO. of ITERATIONS REACHED LIMIT.\n",
            "\n",
            "Increase the number of iterations (max_iter) or scale the data as shown in:\n",
            "    https://scikit-learn.org/stable/modules/preprocessing.html\n",
            "Please also refer to the documentation for alternative solver options:\n",
            "    https://scikit-learn.org/stable/modules/linear_model.html#logistic-regression\n",
            "  n_iter_i = _check_optimize_result(\n"
          ]
        },
        {
          "output_type": "execute_result",
          "data": {
            "text/plain": [
              "88.46153846153845"
            ]
          },
          "metadata": {},
          "execution_count": 219
        }
      ]
    },
    {
      "cell_type": "markdown",
      "source": [
        "A acurácia considerando as classes main sequence e não main sequence ficou melhor do que tendo 6 classes diferentes, porém a acurácia não conseguiu superar a árvore de decisão."
      ],
      "metadata": {
        "id": "kNRSWHxBIwhz"
      }
    },
    {
      "cell_type": "markdown",
      "source": [
        "# Conclusão\n",
        "\n",
        "Esse dataset é bem explicado pelo diagrama de  Hertzsprung-Russell o que poupou a etapa de análise exploratória para entender melhor o dataset, porém ainda é uma etapa importante e pretendo fazer no futuro.\n",
        "\n",
        "Os modelos escolhidos para a classificação foram a árvore de decisão, random forest e regressão logísitica, sendo o random forest o melhor resultado, porém suspeito, e a regressão logística apesar de mostrar bons resultados com classe ninária não conseguiu superar a árvore de decisão."
      ],
      "metadata": {
        "id": "1dEtIUEqJvnB"
      }
    }
  ]
}